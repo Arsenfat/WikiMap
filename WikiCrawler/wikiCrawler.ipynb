{
 "cells": [
  {
   "cell_type": "code",
   "execution_count": 1,
   "metadata": {},
   "outputs": [],
   "source": [
    "#from https://www.jitsejan.com/using-scrapy-in-jupyter-notebook.html\n",
    "import scrapy\n",
    "from scrapy.crawler import CrawlerProcess"
   ]
  },
  {
   "cell_type": "code",
   "execution_count": 2,
   "metadata": {},
   "outputs": [],
   "source": [
    "import json\n",
    "\n",
    "class JsonWriterPipeline(object):\n",
    "\n",
    "    def open_spider(self, spider):\n",
    "        self.file = open('linksResult.jl', 'w')\n",
    "\n",
    "    def close_spider(self, spider):\n",
    "        self.file.close()\n",
    "\n",
    "    def process_item(self, item, spider):\n",
    "        line = json.dumps(dict(item)) + \"\\n\"\n",
    "        self.file.write(line)\n",
    "        return item"
   ]
  },
  {
   "cell_type": "code",
   "execution_count": 3,
   "metadata": {},
   "outputs": [],
   "source": [
    "import logging\n",
    "\n",
    "class QuotesSpider(scrapy.Spider):\n",
    "    name = \"links\"\n",
    "    start_urls = [ 'https://en.wikipedia.org/wiki/Philosophy' ]\n",
    "    custom_settings = {\n",
    "        'LOG_LEVEL': logging.WARNING,\n",
    "        'ITEM_PIPELINES': {'__main__.JsonWriterPipeline': 1}, # Used for pipeline 1\n",
    "        'FEED_FORMAT':'json',                                 # Used for pipeline 2\n",
    "        'FEED_URI': 'linksResult.json'                        # Used for pipeline 2\n",
    "    }\n",
    "    \n",
    "    #Todo: fix parsing for wikipedia\n",
    "    def parse(self, response):\n",
    "        for link in response.css('div.mw-parser-output a'):\n",
    "            linkString = str(link.css('::attr(href)').extract_first())\n",
    "            if ( (linkString[0:6] == '/wiki/') & (linkString[6:11] != 'File:') ):\n",
    "                yield {\n",
    "                    'text': linkString,\n",
    "                }"
   ]
  },
  {
   "cell_type": "code",
   "execution_count": 4,
   "metadata": {},
   "outputs": [
    {
     "name": "stderr",
     "output_type": "stream",
     "text": [
      "2020-12-23 09:57:14 [scrapy.utils.log] INFO: Scrapy 2.4.1 started (bot: scrapybot)\n",
      "2020-12-23 09:57:14 [scrapy.utils.log] INFO: Versions: lxml 4.6.2.0, libxml2 2.9.10, cssselect 1.1.0, parsel 1.6.0, w3lib 1.22.0, Twisted 20.3.0, Python 3.8.6 | packaged by conda-forge | (default, Nov 27 2020, 19:31:52) - [GCC 9.3.0], pyOpenSSL 20.0.0 (OpenSSL 1.1.1h  22 Sep 2020), cryptography 3.2.1, Platform Linux-4.9.184-linuxkit-x86_64-with-glibc2.10\n",
      "2020-12-23 09:57:14 [scrapy.utils.log] DEBUG: Using reactor: twisted.internet.epollreactor.EPollReactor\n",
      "2020-12-23 09:57:14 [scrapy.crawler] INFO: Overridden settings:\n",
      "{'LOG_LEVEL': 30,\n",
      " 'USER_AGENT': 'Mozilla/4.0 (compatible; MSIE 7.0; Windows NT 5.1)'}\n",
      "2020-12-23 09:57:14 [py.warnings] WARNING: /opt/conda/lib/python3.8/site-packages/scrapy/extensions/feedexport.py:247: ScrapyDeprecationWarning: The `FEED_URI` and `FEED_FORMAT` settings have been deprecated in favor of the `FEEDS` setting. Please see the `FEEDS` setting docs for more details\n",
      "  exporter = cls(crawler)\n",
      "\n"
     ]
    }
   ],
   "source": [
    "process = CrawlerProcess({\n",
    "    'USER_AGENT': 'Mozilla/4.0 (compatible; MSIE 7.0; Windows NT 5.1)'\n",
    "})\n",
    "\n",
    "process.crawl(QuotesSpider)\n",
    "process.start()"
   ]
  },
  {
   "cell_type": "code",
   "execution_count": 5,
   "metadata": {},
   "outputs": [
    {
     "name": "stdout",
     "output_type": "stream",
     "text": [
      "1923\n",
      "1352\n"
     ]
    }
   ],
   "source": [
    "import pandas as pd\n",
    "dfjl = pd.read_json('linksResult.jl', lines=True)\n",
    "dfjl\n",
    "print(len(list(dfjl[\"text\"].to_numpy())))\n",
    "print(len(list(set(list(dfjl[\"text\"].to_numpy())))))"
   ]
  },
  {
   "cell_type": "code",
   "execution_count": 8,

   "metadata": {},
   "outputs": [],
   "source": [
    "from neo4j import GraphDatabase, unit_of_work\n",
    "\n",
    "class Neo4jDatabase:\n",
    "    # Wrapper around Neo4j database to easily use Cypher in Python\n",
    "    def __init__(self, uri, user=None, password=None):\n",
    "        self.max_query_size = 10\n",
    "        if user and password:\n",
    "            self.driver = GraphDatabase.driver(uri, auth=(user, password))\n",
    "        else: \n",
    "            self.driver = GraphDatabase.driver(uri)\n",
    "            \n",
    "    def __del__(self):\n",
    "        self.driver.close()\n",
    "    \n",
    "    @unit_of_work(timeout=5)\n",
    "    def _get_nodes(self, tx, limit):\n",
    "        return [dict(record) for record in tx.run(f\"MATCH (node) RETURN (node) LIMIT {limit}\")]\n",
    "    \n",
    "    @unit_of_work(timeout=5)\n",
    "    def _get_relations(self, tx, limit):\n",
    "        return [dict(record) for record in tx.run(f\"MATCH (root)-[relation]->(leaf) RETURN root, relation, leaf LIMIT {limit}\")]\n",
    "    \n",
    "    @unit_of_work(timeout=5)\n",
    "    def _add_nodes(self, tx, query):\n",
    "        return tx.run(query)\n",
    "\n",
    "    def get_all_nodes(self, limit=25):\n",
    "        # Return all nodes in limit\n",
    "        with self.driver.session() as session:\n",
    "            return session.read_transaction(self._get_nodes, limit)\n",
    "        \n",
    "    def get_all_relations(self, limit=25):\n",
    "        # Return all nodes in limit\n",
    "        with self.driver.session() as session:\n",
    "            return session.read_transaction(self._get_relations, limit)\n",
    "            \n",
    "    def add_new_page(self, root, leaves):\n",
    "        # Add a new root node and create a relationship with all the leaves\n",
    "        # This function create new leaves if it don't already exist\n",
    "        list_of_leaves = self.split_list_in_sublist(leaves)\n",
    "        for leaves in list_of_leaves:\n",
    "            query = \"merge (%s:WikiPage {link: '%s'})\\n\" % (root, root)\n",
    "            for i, leave in enumerate(leaves):\n",
    "                query += \"merge (%s:WikiPage {link: '%s'})\\n\" % (\"n\"+str(i), leave)\n",
    "            for i, leave in enumerate(leaves):\n",
    "                query += \"merge (%s)-[:IsIn]->(%s)\\n\" % (root, \"n\"+str(i))\n",
    "            with self.driver.session() as session:\n",
    "                session.write_transaction(self._add_nodes, query)\n",
    "        return \"Ok\"\n",
    "    \n",
    "    def split_list_in_sublist(self, leaves):\n",
    "        # this function is made to split big list in many list\n",
    "        _ = 0\n",
    "        __ = 0\n",
    "        ___ = []\n",
    "        while _ < len(leaves):\n",
    "            _ += 1\n",
    "            if _ % self.max_query_size == 0:\n",
    "                ___.append(leaves[__:_])\n",
    "                __ = _\n",
    "        if not __ == _:\n",
    "            ___.append(leaves[__:_])\n",
    "        return ___"
   ]
  },
  {
   "cell_type": "code",
   "execution_count": 9,

   "metadata": {},
   "outputs": [
    {
     "name": "stdout",
     "output_type": "stream",
     "text": [
      "[{'node': <Node id=0 labels=frozenset({'WikiPage'}) properties={'link': 'Philosophy'}>}, {'node': <Node id=1 labels=frozenset({'WikiPage'}) properties={'link': '/wiki/Philosophy_(disambiguation)'}>}, {'node': <Node id=2 labels=frozenset({'WikiPage'}) properties={'link': '/wiki/The_School_of_Athens'}>}, {'node': <Node id=3 labels=frozenset({'WikiPage'}) properties={'link': '/wiki/Raphael'}>}, {'node': <Node id=4 labels=frozenset({'WikiPage'}) properties={'link': '/wiki/Ancient_Greek_philosophy'}>}, {'node': <Node id=5 labels=frozenset({'WikiPage'}) properties={'link': '/wiki/Ancient_Greek_architecture'}>}, {'node': <Node id=6 labels=frozenset({'WikiPage'}) properties={'link': '/wiki/Category:Philosophy'}>}, {'node': <Node id=7 labels=frozenset({'WikiPage'}) properties={'link': '/wiki/Plato'}>}, {'node': <Node id=8 labels=frozenset({'WikiPage'}) properties={'link': '/wiki/Immanuel_Kant'}>}, {'node': <Node id=9 labels=frozenset({'WikiPage'}) properties={'link': '/wiki/Friedrich_Nietzsche'}>}, {'node': <Node id=10 labels=frozenset({'WikiPage'}) properties={'link': '/wiki/Gautama_Buddha'}>}, {'node': <Node id=11 labels=frozenset({'WikiPage'}) properties={'link': '/wiki/Confucius'}>}, {'node': <Node id=12 labels=frozenset({'WikiPage'}) properties={'link': '/wiki/Averroes'}>}, {'node': <Node id=13 labels=frozenset({'WikiPage'}) properties={'link': '/wiki/Category:Branches_of_philosophy'}>}, {'node': <Node id=14 labels=frozenset({'WikiPage'}) properties={'link': '/wiki/Aesthetics'}>}, {'node': <Node id=15 labels=frozenset({'WikiPage'}) properties={'link': '/wiki/Epistemology'}>}, {'node': <Node id=16 labels=frozenset({'WikiPage'}) properties={'link': '/wiki/Ethics'}>}, {'node': <Node id=17 labels=frozenset({'WikiPage'}) properties={'link': '/wiki/Philosophy_of_law'}>}, {'node': <Node id=18 labels=frozenset({'WikiPage'}) properties={'link': '/wiki/Logic'}>}, {'node': <Node id=19 labels=frozenset({'WikiPage'}) properties={'link': '/wiki/Metaphysics'}>}, {'node': <Node id=20 labels=frozenset({'WikiPage'}) properties={'link': '/wiki/Philosophy_of_language'}>}, {'node': <Node id=21 labels=frozenset({'WikiPage'}) properties={'link': '/wiki/Philosophy_of_mind'}>}, {'node': <Node id=22 labels=frozenset({'WikiPage'}) properties={'link': '/wiki/Philosophy_of_science'}>}, {'node': <Node id=23 labels=frozenset({'WikiPage'}) properties={'link': '/wiki/Political_philosophy'}>}, {'node': <Node id=24 labels=frozenset({'WikiPage'}) properties={'link': '/wiki/Social_philosophy'}>}]\n",
      "\n",
      "\n",
      "[{'root': <Node id=0 labels=frozenset({'WikiPage'}) properties={'link': 'Philosophy'}>, 'relation': <Relationship id=1352 nodes=(<Node id=0 labels=frozenset({'WikiPage'}) properties={'link': 'Philosophy'}>, <Node id=1353 labels=frozenset({'WikiPage'}) properties={'link': '/wiki/Siege_of_Baghdad_(1258)'}>) type='IsIn' properties={}>, 'leaf': <Node id=1353 labels=frozenset({'WikiPage'}) properties={'link': '/wiki/Siege_of_Baghdad_(1258)'}>}, {'root': <Node id=0 labels=frozenset({'WikiPage'}) properties={'link': 'Philosophy'}>, 'relation': <Relationship id=1351 nodes=(<Node id=0 labels=frozenset({'WikiPage'}) properties={'link': 'Philosophy'}>, <Node id=1352 labels=frozenset({'WikiPage'}) properties={'link': '/wiki/Mongol_invasions_of_the_Levant'}>) type='IsIn' properties={}>, 'leaf': <Node id=1352 labels=frozenset({'WikiPage'}) properties={'link': '/wiki/Mongol_invasions_of_the_Levant'}>}, {'root': <Node id=0 labels=frozenset({'WikiPage'}) properties={'link': 'Philosophy'}>, 'relation': <Relationship id=1349 nodes=(<Node id=0 labels=frozenset({'WikiPage'}) properties={'link': 'Philosophy'}>, <Node id=1350 labels=frozenset({'WikiPage'}) properties={'link': '/wiki/NDL_(identifier)'}>) type='IsIn' properties={}>, 'leaf': <Node id=1350 labels=frozenset({'WikiPage'}) properties={'link': '/wiki/NDL_(identifier)'}>}, {'root': <Node id=0 labels=frozenset({'WikiPage'}) properties={'link': 'Philosophy'}>, 'relation': <Relationship id=1350 nodes=(<Node id=0 labels=frozenset({'WikiPage'}) properties={'link': 'Philosophy'}>, <Node id=1351 labels=frozenset({'WikiPage'}) properties={'link': '/wiki/NKC_(identifier)'}>) type='IsIn' properties={}>, 'leaf': <Node id=1351 labels=frozenset({'WikiPage'}) properties={'link': '/wiki/NKC_(identifier)'}>}, {'root': <Node id=0 labels=frozenset({'WikiPage'}) properties={'link': 'Philosophy'}>, 'relation': <Relationship id=1346 nodes=(<Node id=0 labels=frozenset({'WikiPage'}) properties={'link': 'Philosophy'}>, <Node id=1347 labels=frozenset({'WikiPage'}) properties={'link': '/wiki/LCCN_(identifier)'}>) type='IsIn' properties={}>, 'leaf': <Node id=1347 labels=frozenset({'WikiPage'}) properties={'link': '/wiki/LCCN_(identifier)'}>}, {'root': <Node id=0 labels=frozenset({'WikiPage'}) properties={'link': 'Philosophy'}>, 'relation': <Relationship id=1343 nodes=(<Node id=0 labels=frozenset({'WikiPage'}) properties={'link': 'Philosophy'}>, <Node id=1344 labels=frozenset({'WikiPage'}) properties={'link': '/wiki/BNE_(identifier)'}>) type='IsIn' properties={}>, 'leaf': <Node id=1344 labels=frozenset({'WikiPage'}) properties={'link': '/wiki/BNE_(identifier)'}>}, {'root': <Node id=0 labels=frozenset({'WikiPage'}) properties={'link': 'Philosophy'}>, 'relation': <Relationship id=1347 nodes=(<Node id=0 labels=frozenset({'WikiPage'}) properties={'link': 'Philosophy'}>, <Node id=1348 labels=frozenset({'WikiPage'}) properties={'link': '/wiki/LNB_(identifier)'}>) type='IsIn' properties={}>, 'leaf': <Node id=1348 labels=frozenset({'WikiPage'}) properties={'link': '/wiki/LNB_(identifier)'}>}, {'root': <Node id=0 labels=frozenset({'WikiPage'}) properties={'link': 'Philosophy'}>, 'relation': <Relationship id=1342 nodes=(<Node id=0 labels=frozenset({'WikiPage'}) properties={'link': 'Philosophy'}>, <Node id=1343 labels=frozenset({'WikiPage'}) properties={'link': '/wiki/Help:Authority_control'}>) type='IsIn' properties={}>, 'leaf': <Node id=1343 labels=frozenset({'WikiPage'}) properties={'link': '/wiki/Help:Authority_control'}>}, {'root': <Node id=0 labels=frozenset({'WikiPage'}) properties={'link': 'Philosophy'}>, 'relation': <Relationship id=1344 nodes=(<Node id=0 labels=frozenset({'WikiPage'}) properties={'link': 'Philosophy'}>, <Node id=1345 labels=frozenset({'WikiPage'}) properties={'link': '/wiki/BNF_(identifier)'}>) type='IsIn' properties={}>, 'leaf': <Node id=1345 labels=frozenset({'WikiPage'}) properties={'link': '/wiki/BNF_(identifier)'}>}, {'root': <Node id=0 labels=frozenset({'WikiPage'}) properties={'link': 'Philosophy'}>, 'relation': <Relationship id=1348 nodes=(<Node id=0 labels=frozenset({'WikiPage'}) properties={'link': 'Philosophy'}>, <Node id=1349 labels=frozenset({'WikiPage'}) properties={'link': '/wiki/NARA_(identifier)'}>) type='IsIn' properties={}>, 'leaf': <Node id=1349 labels=frozenset({'WikiPage'}) properties={'link': '/wiki/NARA_(identifier)'}>}, {'root': <Node id=0 labels=frozenset({'WikiPage'}) properties={'link': 'Philosophy'}>, 'relation': <Relationship id=1345 nodes=(<Node id=0 labels=frozenset({'WikiPage'}) properties={'link': 'Philosophy'}>, <Node id=1346 labels=frozenset({'WikiPage'}) properties={'link': '/wiki/GND_(identifier)'}>) type='IsIn' properties={}>, 'leaf': <Node id=1346 labels=frozenset({'WikiPage'}) properties={'link': '/wiki/GND_(identifier)'}>}, {'root': <Node id=0 labels=frozenset({'WikiPage'}) properties={'link': 'Philosophy'}>, 'relation': <Relationship id=1341 nodes=(<Node id=0 labels=frozenset({'WikiPage'}) properties={'link': 'Philosophy'}>, <Node id=1342 labels=frozenset({'WikiPage'}) properties={'link': '/wiki/Sophism'}>) type='IsIn' properties={}>, 'leaf': <Node id=1342 labels=frozenset({'WikiPage'}) properties={'link': '/wiki/Sophism'}>}, {'root': <Node id=0 labels=frozenset({'WikiPage'}) properties={'link': 'Philosophy'}>, 'relation': <Relationship id=1340 nodes=(<Node id=0 labels=frozenset({'WikiPage'}) properties={'link': 'Philosophy'}>, <Node id=1341 labels=frozenset({'WikiPage'}) properties={'link': '/wiki/Neo-Scholasticism'}>) type='IsIn' properties={}>, 'leaf': <Node id=1341 labels=frozenset({'WikiPage'}) properties={'link': '/wiki/Neo-Scholasticism'}>}, {'root': <Node id=0 labels=frozenset({'WikiPage'}) properties={'link': 'Philosophy'}>, 'relation': <Relationship id=1339 nodes=(<Node id=0 labels=frozenset({'WikiPage'}) properties={'link': 'Philosophy'}>, <Node id=1340 labels=frozenset({'WikiPage'}) properties={'link': '/wiki/Natural_Law'}>) type='IsIn' properties={}>, 'leaf': <Node id=1340 labels=frozenset({'WikiPage'}) properties={'link': '/wiki/Natural_Law'}>}, {'root': <Node id=0 labels=frozenset({'WikiPage'}) properties={'link': 'Philosophy'}>, 'relation': <Relationship id=1338 nodes=(<Node id=0 labels=frozenset({'WikiPage'}) properties={'link': 'Philosophy'}>, <Node id=1339 labels=frozenset({'WikiPage'}) properties={'link': '/wiki/Postmodernism'}>) type='IsIn' properties={}>, 'leaf': <Node id=1339 labels=frozenset({'WikiPage'}) properties={'link': '/wiki/Postmodernism'}>}, {'root': <Node id=0 labels=frozenset({'WikiPage'}) properties={'link': 'Philosophy'}>, 'relation': <Relationship id=1337 nodes=(<Node id=0 labels=frozenset({'WikiPage'}) properties={'link': 'Philosophy'}>, <Node id=1338 labels=frozenset({'WikiPage'}) properties={'link': '/wiki/Hedonism'}>) type='IsIn' properties={}>, 'leaf': <Node id=1338 labels=frozenset({'WikiPage'}) properties={'link': '/wiki/Hedonism'}>}, {'root': <Node id=0 labels=frozenset({'WikiPage'}) properties={'link': 'Philosophy'}>, 'relation': <Relationship id=1333 nodes=(<Node id=0 labels=frozenset({'WikiPage'}) properties={'link': 'Philosophy'}>, <Node id=1334 labels=frozenset({'WikiPage'}) properties={'link': '/wiki/Spiritism'}>) type='IsIn' properties={}>, 'leaf': <Node id=1334 labels=frozenset({'WikiPage'}) properties={'link': '/wiki/Spiritism'}>}, {'root': <Node id=0 labels=frozenset({'WikiPage'}) properties={'link': 'Philosophy'}>, 'relation': <Relationship id=1332 nodes=(<Node id=0 labels=frozenset({'WikiPage'}) properties={'link': 'Philosophy'}>, <Node id=1333 labels=frozenset({'WikiPage'}) properties={'link': '/wiki/Sikhism'}>) type='IsIn' properties={}>, 'leaf': <Node id=1333 labels=frozenset({'WikiPage'}) properties={'link': '/wiki/Sikhism'}>}, {'root': <Node id=0 labels=frozenset({'WikiPage'}) properties={'link': 'Philosophy'}>, 'relation': <Relationship id=1336 nodes=(<Node id=0 labels=frozenset({'WikiPage'}) properties={'link': 'Philosophy'}>, <Node id=1337 labels=frozenset({'WikiPage'}) properties={'link': '/wiki/Unitarian_Universalism'}>) type='IsIn' properties={}>, 'leaf': <Node id=1337 labels=frozenset({'WikiPage'}) properties={'link': '/wiki/Unitarian_Universalism'}>}, {'root': <Node id=0 labels=frozenset({'WikiPage'}) properties={'link': 'Philosophy'}>, 'relation': <Relationship id=1331 nodes=(<Node id=0 labels=frozenset({'WikiPage'}) properties={'link': 'Philosophy'}>, <Node id=1332 labels=frozenset({'WikiPage'}) properties={'link': '/wiki/Atheist'}>) type='IsIn' properties={}>, 'leaf': <Node id=1332 labels=frozenset({'WikiPage'}) properties={'link': '/wiki/Atheist'}>}, {'root': <Node id=0 labels=frozenset({'WikiPage'}) properties={'link': 'Philosophy'}>, 'relation': <Relationship id=1335 nodes=(<Node id=0 labels=frozenset({'WikiPage'}) properties={'link': 'Philosophy'}>, <Node id=1336 labels=frozenset({'WikiPage'}) properties={'link': '/wiki/Tenriism'}>) type='IsIn' properties={}>, 'leaf': <Node id=1336 labels=frozenset({'WikiPage'}) properties={'link': '/wiki/Tenriism'}>}, {'root': <Node id=0 labels=frozenset({'WikiPage'}) properties={'link': 'Philosophy'}>, 'relation': <Relationship id=1334 nodes=(<Node id=0 labels=frozenset({'WikiPage'}) properties={'link': 'Philosophy'}>, <Node id=1335 labels=frozenset({'WikiPage'}) properties={'link': '/wiki/Tenrikyo'}>) type='IsIn' properties={}>, 'leaf': <Node id=1335 labels=frozenset({'WikiPage'}) properties={'link': '/wiki/Tenrikyo'}>}, {'root': <Node id=0 labels=frozenset({'WikiPage'}) properties={'link': 'Philosophy'}>, 'relation': <Relationship id=1326 nodes=(<Node id=0 labels=frozenset({'WikiPage'}) properties={'link': 'Philosophy'}>, <Node id=1327 labels=frozenset({'WikiPage'}) properties={'link': '/wiki/Neo-Paganism'}>) type='IsIn' properties={}>, 'leaf': <Node id=1327 labels=frozenset({'WikiPage'}) properties={'link': '/wiki/Neo-Paganism'}>}, {'root': <Node id=0 labels=frozenset({'WikiPage'}) properties={'link': 'Philosophy'}>, 'relation': <Relationship id=1323 nodes=(<Node id=0 labels=frozenset({'WikiPage'}) properties={'link': 'Philosophy'}>, <Node id=1324 labels=frozenset({'WikiPage'}) properties={'link': '/wiki/Islam'}>) type='IsIn' properties={}>, 'leaf': <Node id=1324 labels=frozenset({'WikiPage'}) properties={'link': '/wiki/Islam'}>}, {'root': <Node id=0 labels=frozenset({'WikiPage'}) properties={'link': 'Philosophy'}>, 'relation': <Relationship id=1325 nodes=(<Node id=0 labels=frozenset({'WikiPage'}) properties={'link': 'Philosophy'}>, <Node id=1326 labels=frozenset({'WikiPage'}) properties={'link': '/wiki/Korean_shamanism'}>) type='IsIn' properties={}>, 'leaf': <Node id=1326 labels=frozenset({'WikiPage'}) properties={'link': '/wiki/Korean_shamanism'}>}]\n"
     ]
    }
   ],
   "source": [
    "def test_neo4j_wrapper():\n",
    "    database = Neo4jDatabase(\"bolt://db:7687\")\n",
    "    #database.add_new_page(\"leaf2\",[\"leaf3\", \"leaf9\", \"Philosophy\"])\n",
    "    database.add_new_page(\"Philosophy\", list(dfjl[\"text\"].to_numpy()))\n",
    "    print(database.get_all_nodes()) # should print all nodes in database\n",
    "    print(\"\\n\")\n",
    "    print(database.get_all_relations()) # should print all relations in database\n",
    "test_neo4j_wrapper()"
   ]
  },
  {
   "cell_type": "code",
   "execution_count": null,
   "metadata": {},
   "outputs": [],
   "source": []
  }
 ],
 "metadata": {
  "kernelspec": {
   "display_name": "Python 3",
   "language": "python",
   "name": "python3"
  },
  "language_info": {
   "codemirror_mode": {
    "name": "ipython",
    "version": 3
   },
   "file_extension": ".py",
   "mimetype": "text/x-python",
   "name": "python",
   "nbconvert_exporter": "python",
   "pygments_lexer": "ipython3",
   "version": "3.8.5"
  }
 },
 "nbformat": 4,
 "nbformat_minor": 4
}
