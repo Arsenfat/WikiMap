{
 "cells": [
  {
   "cell_type": "code",
   "execution_count": 1,
   "metadata": {},
   "outputs": [],
   "source": [
    "#from https://www.jitsejan.com/using-scrapy-in-jupyter-notebook.html\n",
    "import scrapy\n",
    "from scrapy.crawler import CrawlerProcess"
   ]
  },
  {
   "cell_type": "code",
   "execution_count": 2,
   "metadata": {},
   "outputs": [],
   "source": [
    "import json\n",
    "\n",
    "class JsonWriterPipeline(object):\n",
    "\n",
    "    def open_spider(self, spider):\n",
    "        self.file = open('linksResult.jl', 'w')\n",
    "\n",
    "    def close_spider(self, spider):\n",
    "        self.file.close()\n",
    "\n",
    "    def process_item(self, item, spider):\n",
    "        line = json.dumps(dict(item)) + \"\\n\"\n",
    "        self.file.write(line)\n",
    "        return item"
   ]
  },
  {
   "cell_type": "code",
   "execution_count": 3,
   "metadata": {},
   "outputs": [],
   "source": [
    "import logging\n",
    "\n",
    "class QuotesSpider(scrapy.Spider):\n",
    "    name = \"links\"\n",
    "    start_urls = [ 'https://en.wikipedia.org/wiki/Philosophy' ]\n",
    "    custom_settings = {\n",
    "        'LOG_LEVEL': logging.WARNING,\n",
    "        'ITEM_PIPELINES': {'__main__.JsonWriterPipeline': 1}, # Used for pipeline 1\n",
    "        'FEED_FORMAT':'json',                                 # Used for pipeline 2\n",
    "        'FEED_URI': 'linksResult.json'                        # Used for pipeline 2\n",
    "    }\n",
    "    \n",
    "    #Todo: fix parsing for wikipedia\n",
    "    def parse(self, response):\n",
    "        for link in response.css('div.mw-parser-output a'):\n",
    "            linkString = str(link.css('::attr(href)').extract_first())\n",
    "            if ( (linkString[0:6] == '/wiki/') & (linkString[6:11] != 'File:') ):\n",
    "                yield {\n",
    "                    'text': linkString,\n",
    "                }"
   ]
  },
  {
   "cell_type": "code",
   "execution_count": 4,
   "metadata": {},
   "outputs": [
    {
     "name": "stderr",
     "output_type": "stream",
     "text": [
      "2020-12-16 13:54:39 [scrapy.utils.log] INFO: Scrapy 2.4.1 started (bot: scrapybot)\n",
      "2020-12-16 13:54:39 [scrapy.utils.log] INFO: Versions: lxml 4.6.2.0, libxml2 2.9.10, cssselect 1.1.0, parsel 1.6.0, w3lib 1.22.0, Twisted 20.3.0, Python 3.8.6 | packaged by conda-forge | (default, Nov 27 2020, 19:31:52) - [GCC 9.3.0], pyOpenSSL 20.0.0 (OpenSSL 1.1.1h  22 Sep 2020), cryptography 3.2.1, Platform Linux-4.9.184-linuxkit-x86_64-with-glibc2.10\n",
      "2020-12-16 13:54:39 [scrapy.utils.log] DEBUG: Using reactor: twisted.internet.epollreactor.EPollReactor\n",
      "2020-12-16 13:54:39 [scrapy.crawler] INFO: Overridden settings:\n",
      "{'LOG_LEVEL': 30,\n",
      " 'USER_AGENT': 'Mozilla/4.0 (compatible; MSIE 7.0; Windows NT 5.1)'}\n",
      "2020-12-16 13:54:39 [py.warnings] WARNING: /opt/conda/lib/python3.8/site-packages/scrapy/extensions/feedexport.py:247: ScrapyDeprecationWarning: The `FEED_URI` and `FEED_FORMAT` settings have been deprecated in favor of the `FEEDS` setting. Please see the `FEEDS` setting docs for more details\n",
      "  exporter = cls(crawler)\n",
      "\n"
     ]
    }
   ],
   "source": [
    "process = CrawlerProcess({\n",
    "    'USER_AGENT': 'Mozilla/4.0 (compatible; MSIE 7.0; Windows NT 5.1)'\n",
    "})\n",
    "\n",
    "process.crawl(QuotesSpider)\n",
    "process.start()"
   ]
  },
  {
   "cell_type": "code",
   "execution_count": 5,
   "metadata": {},
   "outputs": [
    {
     "data": {
      "text/html": [
       "<div>\n",
       "<style scoped>\n",
       "    .dataframe tbody tr th:only-of-type {\n",
       "        vertical-align: middle;\n",
       "    }\n",
       "\n",
       "    .dataframe tbody tr th {\n",
       "        vertical-align: top;\n",
       "    }\n",
       "\n",
       "    .dataframe thead th {\n",
       "        text-align: right;\n",
       "    }\n",
       "</style>\n",
       "<table border=\"1\" class=\"dataframe\">\n",
       "  <thead>\n",
       "    <tr style=\"text-align: right;\">\n",
       "      <th></th>\n",
       "      <th>text</th>\n",
       "    </tr>\n",
       "  </thead>\n",
       "  <tbody>\n",
       "    <tr>\n",
       "      <th>0</th>\n",
       "      <td>/wiki/Philosophy_(disambiguation)</td>\n",
       "    </tr>\n",
       "    <tr>\n",
       "      <th>1</th>\n",
       "      <td>/wiki/The_School_of_Athens</td>\n",
       "    </tr>\n",
       "    <tr>\n",
       "      <th>2</th>\n",
       "      <td>/wiki/Raphael</td>\n",
       "    </tr>\n",
       "    <tr>\n",
       "      <th>3</th>\n",
       "      <td>/wiki/Ancient_Greek_philosophy</td>\n",
       "    </tr>\n",
       "    <tr>\n",
       "      <th>4</th>\n",
       "      <td>/wiki/Ancient_Greek_architecture</td>\n",
       "    </tr>\n",
       "    <tr>\n",
       "      <th>...</th>\n",
       "      <td>...</td>\n",
       "    </tr>\n",
       "    <tr>\n",
       "      <th>1917</th>\n",
       "      <td>/wiki/LCCN_(identifier)</td>\n",
       "    </tr>\n",
       "    <tr>\n",
       "      <th>1918</th>\n",
       "      <td>/wiki/LNB_(identifier)</td>\n",
       "    </tr>\n",
       "    <tr>\n",
       "      <th>1919</th>\n",
       "      <td>/wiki/NARA_(identifier)</td>\n",
       "    </tr>\n",
       "    <tr>\n",
       "      <th>1920</th>\n",
       "      <td>/wiki/NDL_(identifier)</td>\n",
       "    </tr>\n",
       "    <tr>\n",
       "      <th>1921</th>\n",
       "      <td>/wiki/NKC_(identifier)</td>\n",
       "    </tr>\n",
       "  </tbody>\n",
       "</table>\n",
       "<p>1922 rows × 1 columns</p>\n",
       "</div>"
      ],
      "text/plain": [
       "                                   text\n",
       "0     /wiki/Philosophy_(disambiguation)\n",
       "1            /wiki/The_School_of_Athens\n",
       "2                         /wiki/Raphael\n",
       "3        /wiki/Ancient_Greek_philosophy\n",
       "4      /wiki/Ancient_Greek_architecture\n",
       "...                                 ...\n",
       "1917            /wiki/LCCN_(identifier)\n",
       "1918             /wiki/LNB_(identifier)\n",
       "1919            /wiki/NARA_(identifier)\n",
       "1920             /wiki/NDL_(identifier)\n",
       "1921             /wiki/NKC_(identifier)\n",
       "\n",
       "[1922 rows x 1 columns]"
      ]
     },
     "execution_count": 5,
     "metadata": {},
     "output_type": "execute_result"
    }
   ],
   "source": [
    "import pandas as pd\n",
    "dfjl = pd.read_json('linksResult.jl', lines=True)\n",
    "dfjl"
   ]
  },
  {
   "cell_type": "code",
   "execution_count": 3,
   "metadata": {},
   "outputs": [],
   "source": [
    "from neo4j import GraphDatabase, unit_of_work\n",
    "\n",
    "class Neo4jDatabase:\n",
    "    # Wrapper around Neo4j database to easily use Cypher in Python\n",
    "    def __init__(self, uri, user=None, password=None):\n",
    "        if user and password:\n",
    "            self.driver = GraphDatabase.driver(uri, auth=(user, password))\n",
    "        else: \n",
    "            self.driver = GraphDatabase.driver(uri)\n",
    "            \n",
    "    def __del__(self):\n",
    "        self.driver.close()\n",
    "    \n",
    "    @unit_of_work(timeout=5)\n",
    "    def _get_nodes(self, tx, limit):\n",
    "        return [dict(record) for record in tx.run(f\"MATCH (node) RETURN (node) LIMIT {limit}\")]\n",
    "    \n",
    "    @unit_of_work(timeout=5)\n",
    "    def _get_relations(self, tx, limit):\n",
    "        return [dict(record) for record in tx.run(f\"MATCH (root)-[relation]->(leaf) RETURN root, relation, leaf LIMIT {limit}\")]\n",
    "    \n",
    "    @unit_of_work(timeout=5)\n",
    "    def _add_nodes(self, tx, query):\n",
    "        return tx.run(query)\n",
    "\n",
    "    def get_all_nodes(self, limit=25):\n",
    "        # Return all nodes in limit\n",
    "        with self.driver.session() as session:\n",
    "            return session.read_transaction(self._get_nodes, limit)\n",
    "        \n",
    "    def get_all_relations(self, limit=25):\n",
    "        # Return all nodes in limit\n",
    "        with self.driver.session() as session:\n",
    "            return session.read_transaction(self._get_relations, limit)\n",
    "            \n",
    "    def add_new_page(self, root, leaves):\n",
    "        # Add a new root node and create a relationship with all the leaves\n",
    "        # This function create new leaves if it don't already exist\n",
    "        query = \"merge (%s:WikiPage {link: '%s'})\\n\" % (root, root)\n",
    "        for leave in leaves:\n",
    "            query += \"merge (%s:WikiPage {link: '%s'})\\n\" % (leave, leave)\n",
    "        for leave in leaves:\n",
    "            query += \"merge (%s)-[:IsIn]->(%s)\\n\" % (root, leave)\n",
    "        with self.driver.session() as session:\n",
    "            return session.write_transaction(self._add_nodes, query)\n"
   ]
  },
  {
   "cell_type": "code",
   "execution_count": 4,
   "metadata": {},
   "outputs": [
    {
     "name": "stdout",
     "output_type": "stream",
     "text": [
      "[{'node': <Node id=1 labels=frozenset({'WikiPage'}) properties={'link': 'leaf2'}>}, {'node': <Node id=2 labels=frozenset({'WikiPage'}) properties={'link': 'leaf3'}>}, {'node': <Node id=6 labels=frozenset({'WikiPage'}) properties={'link': 'leaf9'}>}, {'node': <Node id=7 labels=frozenset({'WikiPage'}) properties={'link': 'Philosophy'}>}, {'node': <Node id=8 labels=frozenset({'WikiPage'}) properties={'link': 'leaf1'}>}, {'node': <Node id=10 labels=frozenset({'WikiPage'}) properties={'link': 'leaf5'}>}]\n",
      "\n",
      "\n",
      "[{'root': <Node id=1 labels=frozenset({'WikiPage'}) properties={'link': 'leaf2'}>, 'relation': <Relationship id=7 nodes=(<Node id=1 labels=frozenset({'WikiPage'}) properties={'link': 'leaf2'}>, <Node id=6 labels=frozenset({'WikiPage'}) properties={'link': 'leaf9'}>) type='IsIn' properties={}>, 'leaf': <Node id=6 labels=frozenset({'WikiPage'}) properties={'link': 'leaf9'}>}, {'root': <Node id=1 labels=frozenset({'WikiPage'}) properties={'link': 'leaf2'}>, 'relation': <Relationship id=6 nodes=(<Node id=1 labels=frozenset({'WikiPage'}) properties={'link': 'leaf2'}>, <Node id=2 labels=frozenset({'WikiPage'}) properties={'link': 'leaf3'}>) type='IsIn' properties={}>, 'leaf': <Node id=2 labels=frozenset({'WikiPage'}) properties={'link': 'leaf3'}>}, {'root': <Node id=1 labels=frozenset({'WikiPage'}) properties={'link': 'leaf2'}>, 'relation': <Relationship id=8 nodes=(<Node id=1 labels=frozenset({'WikiPage'}) properties={'link': 'leaf2'}>, <Node id=7 labels=frozenset({'WikiPage'}) properties={'link': 'Philosophy'}>) type='IsIn' properties={}>, 'leaf': <Node id=7 labels=frozenset({'WikiPage'}) properties={'link': 'Philosophy'}>}, {'root': <Node id=7 labels=frozenset({'WikiPage'}) properties={'link': 'Philosophy'}>, 'relation': <Relationship id=10 nodes=(<Node id=7 labels=frozenset({'WikiPage'}) properties={'link': 'Philosophy'}>, <Node id=8 labels=frozenset({'WikiPage'}) properties={'link': 'leaf1'}>) type='IsIn' properties={}>, 'leaf': <Node id=8 labels=frozenset({'WikiPage'}) properties={'link': 'leaf1'}>}, {'root': <Node id=7 labels=frozenset({'WikiPage'}) properties={'link': 'Philosophy'}>, 'relation': <Relationship id=9 nodes=(<Node id=7 labels=frozenset({'WikiPage'}) properties={'link': 'Philosophy'}>, <Node id=2 labels=frozenset({'WikiPage'}) properties={'link': 'leaf3'}>) type='IsIn' properties={}>, 'leaf': <Node id=2 labels=frozenset({'WikiPage'}) properties={'link': 'leaf3'}>}, {'root': <Node id=7 labels=frozenset({'WikiPage'}) properties={'link': 'Philosophy'}>, 'relation': <Relationship id=0 nodes=(<Node id=7 labels=frozenset({'WikiPage'}) properties={'link': 'Philosophy'}>, <Node id=10 labels=frozenset({'WikiPage'}) properties={'link': 'leaf5'}>) type='IsIn' properties={}>, 'leaf': <Node id=10 labels=frozenset({'WikiPage'}) properties={'link': 'leaf5'}>}]\n"
     ]
    }
   ],
   "source": [
    "def test_neo4j_wrapper():\n",
    "    database = Neo4jDatabase(\"bolt://db:7687\")\n",
    "    database.add_new_page(\"leaf2\",[\"leaf3\", \"leaf9\", \"Philosophy\"])\n",
    "    database.add_new_page(\"Philosophy\", [\"leaf3\", \"leaf1\", \"leaf5\"])\n",
    "    print(database.get_all_nodes()) # should print all nodes in database\n",
    "    print(\"\\n\")\n",
    "    print(database.get_all_relations()) # should print all relations in database\n",
    "test_neo4j_wrapper()"
   ]
  },
  {
   "cell_type": "code",
   "execution_count": null,
   "metadata": {},
   "outputs": [],
   "source": []
  }
 ],
 "metadata": {
  "kernelspec": {
   "display_name": "Python 3",
   "language": "python",
   "name": "python3"
  },
  "language_info": {
   "codemirror_mode": {
    "name": "ipython",
    "version": 3
   },
   "file_extension": ".py",
   "mimetype": "text/x-python",
   "name": "python",
   "nbconvert_exporter": "python",
   "pygments_lexer": "ipython3",
   "version": "3.8.6"
  }
 },
 "nbformat": 4,
 "nbformat_minor": 4
}
